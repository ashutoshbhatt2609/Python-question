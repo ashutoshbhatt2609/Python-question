{
 "cells": [
  {
   "cell_type": "markdown",
   "metadata": {},
   "source": [
    "1. Create 3 variables to store street, city and country , now create address variable to store entire address. Use two ways of creating the variable , one using + and the other using f-string. Now Print the address in such a way that the street, city and country prints in a separate line ?"
   ]
  },
  {
   "cell_type": "code",
   "execution_count": 8,
   "metadata": {},
   "outputs": [
    {
     "name": "stdout",
     "output_type": "stream",
     "text": [
      "Address be using + operator: 13 patli gali Prayagraj India\n",
      "Address be using f-string: 13 patli gali Prayagraj India\n"
     ]
    }
   ],
   "source": [
    "street=\"13 patli gali\"\n",
    "city=\"Prayagraj\"\n",
    "country=\"India\"\n",
    "address=street+' '+city+' '+country\n",
    "print(\"Address be using + operator:\",address)\n",
    "address=f'{street}{\" \"}{city }{\" \"}{country}'\n",
    "print(\"Address be using f-string:\",address)\n"
   ]
  },
  {
   "cell_type": "markdown",
   "metadata": {},
   "source": [
    "2. Create a variable to store the string \"Earth revolves around the sun\"\n",
    "    i. Print \"revolves\" using slice operator\n",
    "   ii. Print \"sun\" using negative index"
   ]
  },
  {
   "cell_type": "code",
   "execution_count": 12,
   "metadata": {},
   "outputs": [
    {
     "name": "stdout",
     "output_type": "stream",
     "text": [
      "revolves\n",
      "sun\n"
     ]
    }
   ],
   "source": [
    "s=\"Earth revolves around the sun\"\n",
    "print(s[6:14])#ietration in forward direction starts from 0\n",
    "print(s[-3:])"
   ]
  },
  {
   "cell_type": "markdown",
   "metadata": {},
   "source": [
    "3. Create two variables to store how many fruits and vegetables you eat in a day. Now Print \"I eat x veggies and y fruits daily\" where x and y presents vegetables and fruits that you eat everyday. Use a python f string for this?"
   ]
  },
  {
   "cell_type": "code",
   "execution_count": 13,
   "metadata": {},
   "outputs": [
    {
     "name": "stdout",
     "output_type": "stream",
     "text": [
      "I eat Two veggies and Four fruits daily\n"
     ]
    }
   ],
   "source": [
    "num_vegetables=input(\"Enter the number of vegetables you eat in a day(In words):-\")\n",
    "num_fruits=input(\"Enter the number of fruits you eat in a day(In words):-\")\n",
    "print(f\"I eat {num_vegetables} veggies and {num_fruits} fruits daily\")"
   ]
  },
  {
   "cell_type": "markdown",
   "metadata": {},
   "source": [
    "4. I have a string variabe called s='maina 2 banana khaye'. This offcousrse is a wrong statement, the correct statement is 'maina 2 samosa khaye'. Replace incorrect words in original string with new ones and print the new string. Also try to do this in one line.\n"
   ]
  },
  {
   "cell_type": "code",
   "execution_count": 16,
   "metadata": {},
   "outputs": [
    {
     "name": "stdout",
     "output_type": "stream",
     "text": [
      "Using two line replace: maina 4 samosa khaye\n"
     ]
    }
   ],
   "source": [
    "#Replace incorrect words\n",
    "s='maina 2 banana khaye'\n",
    "s=s.replace('banana','samosa')\n",
    "s=s.replace('2','4')\n",
    "print(\"Using two line replace:\",s)\n"
   ]
  },
  {
   "cell_type": "code",
   "execution_count": 17,
   "metadata": {},
   "outputs": [
    {
     "name": "stdout",
     "output_type": "stream",
     "text": [
      "Using one line replace: maina 4 samosa khaye\n"
     ]
    }
   ],
   "source": [
    "#Replace incorrect words\n",
    "s='maina 2 banana khaye'\n",
    "s=s.replace('banana','samosa').replace('2','4')\n",
    "print(\"Using one line replace:\",s)\n"
   ]
  }
 ],
 "metadata": {
  "kernelspec": {
   "display_name": "Python 3",
   "language": "python",
   "name": "python3"
  },
  "language_info": {
   "codemirror_mode": {
    "name": "ipython",
    "version": 3
   },
   "file_extension": ".py",
   "mimetype": "text/x-python",
   "name": "python",
   "nbconvert_exporter": "python",
   "pygments_lexer": "ipython3",
   "version": "3.12.4"
  }
 },
 "nbformat": 4,
 "nbformat_minor": 2
}
