{
 "cells": [
  {
   "cell_type": "markdown",
   "metadata": {},
   "source": [
    "1. You have a football field that is 92 meter long and 48.8 meter wide . find out the area of the football field using python and print it ?"
   ]
  },
  {
   "cell_type": "code",
   "execution_count": 5,
   "metadata": {},
   "outputs": [
    {
     "name": "stdout",
     "output_type": "stream",
     "text": [
      "4489.599999999999 square meter is the area of the football field.\n"
     ]
    }
   ],
   "source": [
    "length=92\n",
    "breath=48.8\n",
    "area=length*breath\n",
    "print(area,\"square meter is the area of the football field.\")"
   ]
  },
  {
   "cell_type": "markdown",
   "metadata": {},
   "source": [
    "2. You bought 9 chips packet and each is of $1.49 and you have given $20 to the shopkeeper . Find out using python how much money is to be returned from the shopkeeper to you ?"
   ]
  },
  {
   "cell_type": "code",
   "execution_count": 3,
   "metadata": {},
   "outputs": [
    {
     "name": "stdout",
     "output_type": "stream",
     "text": [
      "6.59 is the amount to be returned\n"
     ]
    }
   ],
   "source": [
    "chips_price=1.49\n",
    "total=9*chips_price\n",
    "amount_to_be_returned=20-total\n",
    "print(amount_to_be_returned,\"is the amount to be returned\")"
   ]
  },
  {
   "cell_type": "markdown",
   "metadata": {},
   "source": [
    "3. Print binary representation of 17?"
   ]
  },
  {
   "cell_type": "code",
   "execution_count": 10,
   "metadata": {},
   "outputs": [
    {
     "name": "stdout",
     "output_type": "stream",
     "text": [
      "Binary representation of 17 is 10001\n"
     ]
    }
   ],
   "source": [
    "decimal_number=17\n",
    "print(\"Binary representation of 17 is\",format(decimal_number,'b'))"
   ]
  },
  {
   "cell_type": "markdown",
   "metadata": {},
   "source": [
    "4. Calculate the number of ice cude fitted in the box of volume 50 square meter if ice cude have a volume of 2.25 square centimeter ?"
   ]
  },
  {
   "cell_type": "code",
   "execution_count": 11,
   "metadata": {},
   "outputs": [
    {
     "name": "stdout",
     "output_type": "stream",
     "text": [
      "The number of ice cube to be inserted is 22222.222222222223\n"
     ]
    }
   ],
   "source": [
    "box_volume=50\n",
    "ice_cube_volume=2.25\n",
    "number_of_ice_cube_to_be_fitted_in_box=50/(2.25/1000)\n",
    "print(\"The number of ice cube to be inserted is\",number_of_ice_cube_to_be_fitted_in_box)"
   ]
  }
 ],
 "metadata": {
  "kernelspec": {
   "display_name": "Python 3",
   "language": "python",
   "name": "python3"
  },
  "language_info": {
   "codemirror_mode": {
    "name": "ipython",
    "version": 3
   },
   "file_extension": ".py",
   "mimetype": "text/x-python",
   "name": "python",
   "nbconvert_exporter": "python",
   "pygments_lexer": "ipython3",
   "version": "3.12.4"
  }
 },
 "nbformat": 4,
 "nbformat_minor": 2
}
